{
 "cells": [
  {
   "cell_type": "markdown",
   "id": "f2fe9863",
   "metadata": {},
   "source": [
    "# S6: Ejercicio práctico"
   ]
  },
  {
   "cell_type": "markdown",
   "id": "3f3251cf",
   "metadata": {},
   "source": [
    "---"
   ]
  },
  {
   "cell_type": "markdown",
   "id": "14ae9f71",
   "metadata": {},
   "source": [
    "Fredrick y tú sois buenos amigos. Ayer, Fredrick recibió tarjetas de crédito de ABCD Bank. Quiere verificar si los números de su tarjeta de crédito son válidos o no. Eres genial en expresiones regulares, ¡así que te está pidiendo ayuda!\n",
    "\n",
    "Una tarjeta de crédito válida del Banco ABCD tiene las siguientes características:\n",
    "\n",
    "- Debe comenzar con un `4,5 o 6`.\n",
    "- Debe contener exactamente 16 dígitos.\n",
    "- Solo debe constar de dígitos `(0-9)`.\n",
    "- Puede tener dígitos en grupos de `4`, separados por un guión `\"-\"`.\n",
    "- NO debe usar ningún otro separador como `' ' , '_'`, etc.\n",
    "- NO debe tener `4` o más dígitos consecutivos repetidos.\n",
    "\n",
    "\n",
    "### Ejemplos:\n",
    "\n",
    "**Números de tarjetas de crédito válidos**:\n",
    "```\n",
    "4253625879615786\n",
    "4424424424442444\n",
    "5122-2368-7954-3214\n",
    "```\n",
    "\n",
    "**Números de tarjetas de crédito no válidos**:\n",
    "```\n",
    "42536258796157867 #17 dígitos en número de tarjeta → Inválido\n",
    "4424444424442444 #Los dígitos consecutivos se repiten 4 o más veces → Inválido\n",
    "5122-2368-7954 - 3214 #Se utilizan separadores distintos de '-' → Inválido\n",
    "44244x4424442444 #Contiene caracteres que no son dígitos → Inválido\n",
    "0525362587961578 #No empieza con 4, 5 o 6 → Inválido\n",
    "```\n",
    "\n",
    "### Formato de entrada\n",
    "\n",
    "- La primera línea de entrada contiene un número entero N.\n",
    "- Las siguientes N líneas contienen números de tarjetas de crédito.\n",
    "\n",
    "### Restricciones\n",
    "\n",
    "```\n",
    "0 < N < 100\n",
    "```\n",
    "\n",
    "### Formato de salida\n",
    "\n",
    "Imprima `Válido` si el número de tarjeta de crédito es válido. De lo contrario, imprima `Inválido`. No imprima las comillas.\n",
    "\n",
    "### Entrada de muestra\n",
    "```\n",
    "6\n",
    "4123456789123456\n",
    "5123-4567-8912-3456\n",
    "61234-567-8912-3456\n",
    "4123356789123456\n",
    "5133-3367-8912-3456\n",
    "5123 - 3567 - 8912 - 3456\n",
    "```\n",
    "\n",
    "### Salida de muestra\n",
    "``` \n",
    "Válido\n",
    "Válido\n",
    "Inválido\n",
    "Válido\n",
    "Inválido\n",
    "Inválido\n",
    "```\n",
    "\n",
    "### Explicación\n",
    "```\n",
    "4123456789123456 : Válido\n",
    "5123-4567-8912-3456 : Válido\n",
    "61234-567-8912-3456 : Inválido, porque el número de tarjeta no está dividido en grupos iguales de 4.\n",
    "4123356789123456 : Válido\n",
    "5133-3367-8912-3456: Inválido, dígitos consecutivos no válidos 3333 se repite 4 veces.\n",
    "5123 — 4567 — 8912 — 3456 : Inválido, porque el espacio ' ' y - se utilizan como separadores.\n",
    "```"
   ]
  },
  {
   "cell_type": "code",
   "execution_count": 2,
   "id": "564d6023",
   "metadata": {},
   "outputs": [],
   "source": [
    "import re"
   ]
  },
  {
   "cell_type": "code",
   "execution_count": 2,
   "id": "ccff6ef7",
   "metadata": {},
   "outputs": [
    {
     "data": {
      "text/plain": [
       "'vaido'"
      ]
     },
     "execution_count": 2,
     "metadata": {},
     "output_type": "execute_result"
    }
   ],
   "source": [
    "\"valido\" if re.fullmatch(\"\\d{5}\", \"02215\") else \"invalido\""
   ]
  },
  {
   "cell_type": "code",
   "execution_count": 4,
   "id": "1e479428",
   "metadata": {},
   "outputs": [
    {
     "data": {
      "text/plain": [
       "'invalido'"
      ]
     },
     "execution_count": 4,
     "metadata": {},
     "output_type": "execute_result"
    }
   ],
   "source": [
    "\"valido\" if re.fullmatch(\"\\d{13}\",\"08011995156530\") else \"invalido\""
   ]
  },
  {
   "cell_type": "code",
   "execution_count": 12,
   "id": "786b9b3c",
   "metadata": {},
   "outputs": [
    {
     "data": {
      "text/plain": [
       "'valido'"
      ]
     },
     "execution_count": 12,
     "metadata": {},
     "output_type": "execute_result"
    }
   ],
   "source": [
    "\"valido\" if re.fullmatch(\"^[a-zÑ.-_]+@[a-z]*\\.[a-z]{1,3}$\",\"oscarvallecillo95@gmail.com\") else \"invalido\""
   ]
  },
  {
   "cell_type": "code",
   "execution_count": 15,
   "id": "eab8432e",
   "metadata": {},
   "outputs": [
    {
     "data": {
      "text/plain": [
       "'invalido'"
      ]
     },
     "execution_count": 15,
     "metadata": {},
     "output_type": "execute_result"
    }
   ],
   "source": [
    "\"valido\" if re.fullmatch(\"[A-Z][a-zÑ]+$\",\"Oscar-vallecillo\") else \"invalido\""
   ]
  },
  {
   "cell_type": "code",
   "execution_count": 25,
   "id": "fea36ab9",
   "metadata": {},
   "outputs": [
    {
     "data": {
      "text/plain": [
       "'invalido'"
      ]
     },
     "execution_count": 25,
     "metadata": {},
     "output_type": "execute_result"
    }
   ],
   "source": [
    "\"valido\" if re.fullmatch(\"08[0-2][0-8]-?(19[2-9][0-9]|20([0-1][0-9]|2[0-3]))-?\\d{5}\",\"0801-199s5-15653\") else \"invalido\""
   ]
  },
  {
   "cell_type": "code",
   "execution_count": 204,
   "id": "10aa7b7b",
   "metadata": {},
   "outputs": [
    {
     "data": {
      "text/plain": [
       "'valido'"
      ]
     },
     "execution_count": 204,
     "metadata": {},
     "output_type": "execute_result"
    }
   ],
   "source": [
    "\"valido\" if re.fullmatch(\"^((4|5|6)[0-9]{3}-?[0-9]{4}-?[0-9]{4}-?[0-9]{4})$\",\"4444-1567-7689-1011\") else \"invalido\""
   ]
  },
  {
   "cell_type": "code",
   "execution_count": 3,
   "id": "0b26bd3b",
   "metadata": {},
   "outputs": [],
   "source": [
    "def run(credit_card):\n",
    "    \"\"\"\n",
    "        Función main\n",
    "    \"\"\"\n",
    "    return \"valido\" if re.fullmatch(\"^((4|5|6)[0-9]{3}-?[0-9]{4}-?[0-9]{4}-?[0-9]{4})$\",credit_card) else \"invalido\""
   ]
  },
  {
   "cell_type": "code",
   "execution_count": 4,
   "id": "345cb6e6",
   "metadata": {},
   "outputs": [
    {
     "name": "stdout",
     "output_type": "stream",
     "text": [
      "['valido', 'valido', 'valido', 'valido', 'valido', 'valido']\n"
     ]
    }
   ],
   "source": [
    "if __name__ == \"__main__\":\n",
    "    data = [\"4123456789123456\", \"5123-4567-8912-3456\", \"61234-567-8912-3456\", \"4123356789123456\", \"5133-3367-8912-3456\", \"5123 - 3567 - 8912 - 3456\"]\n",
    "    valid = []\n",
    "    for item in data:\n",
    "        valid.append(run(item))\n",
    "    print(valid)    "
   ]
  }
 ],
 "metadata": {
  "kernelspec": {
   "display_name": "Python 3 (ipykernel)",
   "language": "python",
   "name": "python3"
  },
  "language_info": {
   "codemirror_mode": {
    "name": "ipython",
    "version": 3
   },
   "file_extension": ".py",
   "mimetype": "text/x-python",
   "name": "python",
   "nbconvert_exporter": "python",
   "pygments_lexer": "ipython3",
   "version": "3.10.6"
  }
 },
 "nbformat": 4,
 "nbformat_minor": 5
}
