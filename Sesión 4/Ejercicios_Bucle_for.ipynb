{
 "cells": [
  {
   "cell_type": "markdown",
   "metadata": {
    "id": "THf5OffyCEIG"
   },
   "source": [
    "# **S4 Ejercicios: bucle for**"
   ]
  },
  {
   "cell_type": "markdown",
   "metadata": {
    "id": "HToNxUH8GoFr"
   },
   "source": [
    "# Ejercicio 1\n",
    "\n"
   ]
  },
  {
   "cell_type": "markdown",
   "metadata": {
    "id": "G-lJ59z6G0ds"
   },
   "source": [
    "Escribir programa que solicite ingresar un nombre de usuario y una contraseña. Si el nombre es **Jon Snow** y la contraseña es **rey-del-norte**, mostrar en pantalla **Usuario y contraseña correctos. Puede ingresar a lacasadeldragon.com**. Si el nombre o la contraseña no coinciden, mostrar **Acceso denegado**.\n",
    "\n"
   ]
  },
  {
   "cell_type": "code",
   "execution_count": 6,
   "metadata": {
    "id": "cnRtZVRgIwfz"
   },
   "outputs": [
    {
     "name": "stdout",
     "output_type": "stream",
     "text": [
      "ingrese nombre de usuario: JON SNOW\n",
      "ingrese contraseña: REYNORTE\n",
      "ACCESO DENEGADO\n",
      "ingrese su nombre y contraseña otra vez \n",
      "ingrese nombre de usuario: Jon Snow\n",
      "ingrese contraseña: rey-del-norte\n",
      "usuario y contraseña correctos \n",
      "bienvenido a  lacasadeldragon.com \n"
     ]
    }
   ],
   "source": [
    "if __name__ == \"__main__\":\n",
    "    while True:\n",
    "        name = input(\"ingrese nombre de usuario: \")\n",
    "        password = input(\"ingrese contraseña: \")\n",
    "        if name ==\"Jon Snow\" and password == \"rey-del-norte\":\n",
    "            print(\"usuario y contraseña correctos \") \n",
    "            print(\"bienvenido a  lacasadeldragon.com \")\n",
    "            break\n",
    "        else:\n",
    "            print(\"ACCESO DENEGADO\")\n",
    "            print(\"ingrese su nombre y contraseña otra vez \")"
   ]
  },
  {
   "cell_type": "markdown",
   "metadata": {
    "id": "WgS6QjY4CHH2"
   },
   "source": [
    "# Ejercicio 2"
   ]
  },
  {
   "cell_type": "markdown",
   "metadata": {
    "id": "J-LAyWpTIw97"
   },
   "source": [
    "Escribir un programa para solicitar al usuario tres números y mostrar en pantalla al menor de los tres."
   ]
  },
  {
   "cell_type": "code",
   "execution_count": 16,
   "metadata": {
    "id": "xxHHIurWJHdj"
   },
   "outputs": [
    {
     "name": "stdout",
     "output_type": "stream",
     "text": [
      "numero[0]: 23\n",
      "numero[1]: 65\n",
      "numero[2]: 12\n",
      "el numero mayor es 65\n"
     ]
    }
   ],
   "source": [
    "if __name__ == \"__main__\":\n",
    "    numeros = []\n",
    "    max = 0\n",
    "    for i in range(0,3):\n",
    "        numeroActual = int(input(f\"numero[{i}]: \"))\n",
    "        numeros.insert(i,numeroActual)\n",
    "        if numeros[i] > max:\n",
    "            max = numeros[i]\n",
    "    print(f\"el numero mayor es {max}\")\n",
    "        \n",
    "    "
   ]
  },
  {
   "cell_type": "markdown",
   "metadata": {
    "id": "A1-T_ELYCIL1"
   },
   "source": [
    "# Ejercicio 3"
   ]
  },
  {
   "cell_type": "markdown",
   "metadata": {
    "id": "BredljxPJHyD"
   },
   "source": [
    "Escribir programa que permita saber si un año es bisiesto. Para que un año sea bisiesto debe ser divisible por 4 y no debe ser divisible por 100, excepto que también sea divisible por 400."
   ]
  },
  {
   "cell_type": "code",
   "execution_count": 30,
   "metadata": {
    "id": "Q447K_4eJSJL"
   },
   "outputs": [
    {
     "name": "stdout",
     "output_type": "stream",
     "text": [
      "ingrese un año: 2020\n",
      "es un año bisiesto\n",
      "si deseas salir ingresa 0, si de deceas continuar pulsa 1: 0\n",
      "ingrese un año: 2016\n",
      "es un año bisiesto\n",
      "si deseas salir ingresa 0, si de deceas continuar pulsa 1: 1\n"
     ]
    }
   ],
   "source": [
    "if __name__ == \"__main__\":\n",
    "    flag =0\n",
    "    while flag == 0:\n",
    "        year = int(input(\"ingrese un año: \"))\n",
    "        if (year%4==0  and year%100!=0) or  year%400==0:\n",
    "                print(\"es un año bisiesto\")\n",
    "                flag= int (input(\"si deseas salir ingresa 0, si de deceas continuar pulsa 1: \"))\n",
    "        else:\n",
    "            print(\"el año no es bisiesto\")\n",
    "            \n",
    "            "
   ]
  },
  {
   "cell_type": "markdown",
   "metadata": {
    "id": "nW9gOVwwCJN2"
   },
   "source": [
    "# Ejercicio 4"
   ]
  },
  {
   "cell_type": "markdown",
   "metadata": {
    "id": "fTyh-JcVJxwc"
   },
   "source": [
    "Escribe un programa que muestre la sumatoria de todos los números entre el 0 y el 100."
   ]
  },
  {
   "cell_type": "code",
   "execution_count": 35,
   "metadata": {
    "id": "_-TEuWLwKIjL"
   },
   "outputs": [
    {
     "name": "stdout",
     "output_type": "stream",
     "text": [
      "sumatoria de los numeros del 1 al 10: 5050\n"
     ]
    }
   ],
   "source": [
    "if __name__ == \"__main__\":\n",
    "    suma =0\n",
    "    for i in range(0,101):\n",
    "        suma +=i\n",
    "        \n",
    "    print(f\"sumatoria de los numeros del 1 al 10: {suma}\")    "
   ]
  },
  {
   "cell_type": "markdown",
   "metadata": {
    "id": "48pwGNt5CREN"
   },
   "source": [
    "# Ejercicio 5"
   ]
  },
  {
   "cell_type": "markdown",
   "metadata": {
    "id": "MbhhjCnXKIus"
   },
   "source": [
    "Escribir un programa que, dado un número por el usuario, muestre todos sus divisores positivos"
   ]
  },
  {
   "cell_type": "code",
   "execution_count": 37,
   "metadata": {
    "id": "ipy1z34mKgzL"
   },
   "outputs": [
    {
     "name": "stdout",
     "output_type": "stream",
     "text": [
      "N: 10\n",
      "los divisores de 10 son: [1, 2, 5, 10]\n"
     ]
    }
   ],
   "source": [
    "if __name__ == \"__main__\":\n",
    "    divisores = []\n",
    "    numero = int(input(\"N: \"))\n",
    "    for i in range(numero+1):\n",
    "        if i ==0:\n",
    "            continue\n",
    "        if numero%i==0:\n",
    "            divisores.append(i)\n",
    "    print(f\"los divisores de {numero} son: {divisores}\")        \n",
    "            "
   ]
  },
  {
   "cell_type": "markdown",
   "metadata": {
    "id": "fd5cxsDhCSL1"
   },
   "source": [
    "# Ejercicio 6"
   ]
  },
  {
   "cell_type": "markdown",
   "metadata": {
    "id": "SHdwwbJ5KhAk"
   },
   "source": [
    "Escribir programa que muestre los primeros 10 números de la sucesión de Fibonacci. La sucesión comienza con los números 0 y 1 y, a partir de éstos, cada elemento es la suma de los dos números anteriores en la secuencia: 0, 1, 1, 2, 3, 5, 8, 13, 21, 34, 55…"
   ]
  },
  {
   "cell_type": "code",
   "execution_count": 47,
   "metadata": {
    "id": "NGT4cObwK4sz"
   },
   "outputs": [
    {
     "name": "stdout",
     "output_type": "stream",
     "text": [
      "[0, 1, 1, 2, 3, 5, 8, 13, 21, 34, 55]\n"
     ]
    }
   ],
   "source": [
    "if __name__ == \"__main__\":\n",
    "    fib = [0,1]\n",
    "    for i in range(11):\n",
    "        if i == 0 or i ==1:\n",
    "            continue\n",
    "        prev =  fib[i-2]\n",
    "        current = fib[i-1]\n",
    "        fib.append(prev + current)\n",
    "            \n",
    "    print(fib)        "
   ]
  },
  {
   "cell_type": "markdown",
   "metadata": {
    "id": "CZkqltOGCT--"
   },
   "source": [
    "# Ejercicio 7"
   ]
  },
  {
   "cell_type": "markdown",
   "metadata": {
    "id": "sjgB1oQEK5Tq"
   },
   "source": [
    "Escribir programa que, dado un número entero positivo, calcule y muestre su factorial."
   ]
  },
  {
   "cell_type": "code",
   "execution_count": 71,
   "metadata": {
    "id": "I-Vq7GpLLAYb"
   },
   "outputs": [
    {
     "name": "stdout",
     "output_type": "stream",
     "text": [
      "5040\n"
     ]
    }
   ],
   "source": [
    "def factorial(n, result=1):\n",
    "    if n==0:\n",
    "        return result\n",
    "    else: \n",
    "        result = factorial(n-1,result)*n\n",
    "        return result\n",
    "        \n",
    "if __name__ == \"__main__\":\n",
    "    N = 7\n",
    "    \n",
    "    print(factorial(N))\n",
    "\n"
   ]
  },
  {
   "cell_type": "markdown",
   "metadata": {
    "id": "G_sNfsnoCWIl"
   },
   "source": [
    "# Ejercicio 8"
   ]
  },
  {
   "cell_type": "markdown",
   "metadata": {
    "id": "1xOF-DBKL0az"
   },
   "source": [
    "Escribir programa que permita al usuario ingresar el coste de las compras de un cliente (se desconoce la cantidad de datos que cargará, la cual puede cambiar en cada ejecución), cortando el ingreso de datos cuando el usuario ingrese el coste 0. Si ingresa un coste negativo, no se debe procesar y se debe pedir que ingrese un nuevo coste. Al finalizar, informar el total a pagar teniendo que cuenta que, si las ventas superan el monto total de 1000, se le debe aplicar un 10% de descuento.\n",
    "\n",
    "Utilizar Try, Catch por si el usuario introduce una cadena de texto."
   ]
  },
  {
   "cell_type": "code",
   "execution_count": 88,
   "metadata": {
    "id": "J5fKMrRiMUYM"
   },
   "outputs": [
    {
     "name": "stdout",
     "output_type": "stream",
     "text": [
      "ingrese el coste: 22.3\n",
      "desea continuar, SI:1 NO:01\n",
      "ingrese el coste: 34.76\n",
      "desea continuar, SI:1 NO:01\n",
      "ingrese el coste: 455.06\n",
      "desea continuar, SI:1 NO:00\n",
      "total a pagar 512.12\n"
     ]
    }
   ],
   "source": [
    "if __name__ == \"__main__\":\n",
    "    try:\n",
    "        coste =0\n",
    "        flag=1\n",
    "        monto = 0\n",
    "        while flag != 0 :\n",
    "            coste = float(input(\"ingrese el coste: \"))\n",
    "            if coste == 0:\n",
    "                break\n",
    "            if coste < 0:\n",
    "                continue \n",
    "            if coste>0:    \n",
    "                monto +=coste\n",
    "            flag = float(input(\"desea continuar, SI:1 NO:0\"))\n",
    "            \n",
    "            \n",
    "        print(f\"total a pagar {monto}\")    \n",
    "        \n",
    "    except ValueError:\n",
    "        print(\"ha ingresado una cadena\")\n",
    "    "
   ]
  },
  {
   "cell_type": "code",
   "execution_count": null,
   "metadata": {},
   "outputs": [],
   "source": []
  }
 ],
 "metadata": {
  "colab": {
   "provenance": []
  },
  "kernelspec": {
   "display_name": "Python 3 (ipykernel)",
   "language": "python",
   "name": "python3"
  },
  "language_info": {
   "codemirror_mode": {
    "name": "ipython",
    "version": 3
   },
   "file_extension": ".py",
   "mimetype": "text/x-python",
   "name": "python",
   "nbconvert_exporter": "python",
   "pygments_lexer": "ipython3",
   "version": "3.10.6"
  },
  "vscode": {
   "interpreter": {
    "hash": "31f2aee4e71d21fbe5cf8b01ff0e069b9275f58929596ceb00d14d90e3e16cd6"
   }
  }
 },
 "nbformat": 4,
 "nbformat_minor": 1
}
